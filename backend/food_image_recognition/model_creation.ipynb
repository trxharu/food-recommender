{
  "nbformat": 4,
  "nbformat_minor": 0,
  "metadata": {
    "orig_nbformat": 4,
    "language_info": {
      "name": "python",
      "version": "3.9.7",
      "mimetype": "text/x-python",
      "codemirror_mode": {
        "name": "ipython",
        "version": 3
      },
      "pygments_lexer": "ipython3",
      "nbconvert_exporter": "python",
      "file_extension": ".py"
    },
    "kernelspec": {
      "name": "python3",
      "display_name": "Python 3.9.7 64-bit"
    },
    "interpreter": {
      "hash": "56ae35c9d73059d1586df60f2c8d27c5282ae80d63a192bd598e70bb440edf42"
    },
    "colab": {
      "name": "model_creation.ipynb",
      "provenance": [],
      "collapsed_sections": []
    },
    "accelerator": "GPU"
  },
  "cells": [
    {
      "cell_type": "markdown",
      "metadata": {
        "id": "uihCXXM9pSMf"
      },
      "source": [
        "# Model creation"
      ]
    },
    {
      "cell_type": "code",
      "metadata": {
        "colab": {
          "base_uri": "https://localhost:8080/"
        },
        "id": "kbSfAuH0pfwz",
        "outputId": "de16e5e5-22dc-43ed-cbd1-bd85148378ba"
      },
      "source": [
        "from google.colab import drive\n",
        "drive.mount('/content/drive')"
      ],
      "execution_count": null,
      "outputs": [
        {
          "output_type": "stream",
          "name": "stdout",
          "text": [
            "Mounted at /content/drive\n"
          ]
        }
      ]
    },
    {
      "cell_type": "code",
      "metadata": {
        "id": "TmamprhnpSMk"
      },
      "source": [
        "import numpy as np\n",
        "import tensorflow as tf\n",
        "from tensorflow.keras.applications.mobilenet import MobileNet, preprocess_input\n",
        "from tensorflow.keras.models import Sequential, Model\n",
        "from tensorflow.keras.optimizers import Adam\n",
        "\n"
      ],
      "execution_count": null,
      "outputs": []
    },
    {
      "cell_type": "markdown",
      "metadata": {
        "id": "YnTBpFdI-sDz"
      },
      "source": [
        "### Importing saved Dataset as numpy array"
      ]
    },
    {
      "cell_type": "code",
      "metadata": {
        "id": "pyMLUPUrpSMm"
      },
      "source": [
        "with open(\"/content/drive/MyDrive/food_recommender/train_images.npy\", \"rb\") as f:\n",
        "  train_images = np.load(f)\n",
        "\n",
        "with open(\"/content/drive/MyDrive/food_recommender/train_labels.npy\", \"rb\") as f:\n",
        "  train_labels = np.load(f)\n",
        "\n",
        "train_images = preprocess_input(train_images)"
      ],
      "execution_count": null,
      "outputs": []
    },
    {
      "cell_type": "markdown",
      "metadata": {
        "id": "mDAO4r7t-4o7"
      },
      "source": [
        "### One-Hot Encoding the labels "
      ]
    },
    {
      "cell_type": "code",
      "metadata": {
        "id": "PEPZ4oDMpSMn"
      },
      "source": [
        "# One-Hot Encode\n",
        "shape = (train_labels.size, train_labels.max() + 1)\n",
        "enc_train_labels = np.zeros(shape)\n",
        "rows = np.arange(train_labels.size)\n",
        "\n",
        "enc_train_labels[rows, train_labels] = 1"
      ],
      "execution_count": null,
      "outputs": []
    },
    {
      "cell_type": "markdown",
      "metadata": {
        "id": "t3rVdtFn-_uL"
      },
      "source": [
        "### Importing MobileNet Model"
      ]
    },
    {
      "cell_type": "code",
      "metadata": {
        "id": "Lp-43g5spSMo",
        "colab": {
          "base_uri": "https://localhost:8080/"
        },
        "outputId": "becc2349-3642-4ddb-9ce6-68039c348bda"
      },
      "source": [
        "mobilenet_model = MobileNet()"
      ],
      "execution_count": null,
      "outputs": [
        {
          "output_type": "stream",
          "name": "stdout",
          "text": [
            "Downloading data from https://storage.googleapis.com/tensorflow/keras-applications/mobilenet/mobilenet_1_0_224_tf.h5\n",
            "17227776/17225924 [==============================] - 0s 0us/step\n",
            "17235968/17225924 [==============================] - 0s 0us/step\n"
          ]
        }
      ]
    },
    {
      "cell_type": "code",
      "metadata": {
        "id": "HepI4iEGpSMo"
      },
      "source": [
        "mobilenet_model.summary()"
      ],
      "execution_count": null,
      "outputs": []
    },
    {
      "cell_type": "markdown",
      "metadata": {
        "id": "8l0f9-Rs_JmM"
      },
      "source": [
        "### Removing last 6 layers from the model and adding our own output layer\n",
        "### Setting some layers in model to non trainable"
      ]
    },
    {
      "cell_type": "code",
      "metadata": {
        "id": "1YHnrrChy1c2"
      },
      "source": [
        "x = mobilenet_model.layers[-6].output\n",
        "output_layer = Dense(units=80, activation='softmax')(x)\n",
        "model = Model(inputs=mobilenet_model.input, outputs=output_layer)\n",
        "\n",
        "for layer in model.layers[:-20]:\n",
        "  layer.trainable = False"
      ],
      "execution_count": null,
      "outputs": []
    },
    {
      "cell_type": "code",
      "metadata": {
        "id": "TVTDuTurzr4Q"
      },
      "source": [
        "model.summary()"
      ],
      "execution_count": null,
      "outputs": []
    },
    {
      "cell_type": "markdown",
      "metadata": {
        "id": "EvFztY0L_hT9"
      },
      "source": [
        "### Compiling the new Model"
      ]
    },
    {
      "cell_type": "code",
      "metadata": {
        "id": "mKMztBAupSMp"
      },
      "source": [
        "model.compile(optimizer=Adam(learning_rate=0.0001), loss='categorical_crossentropy', metrics=['accuracy'])"
      ],
      "execution_count": null,
      "outputs": []
    },
    {
      "cell_type": "markdown",
      "metadata": {
        "id": "w5pB3Q0x_lJV"
      },
      "source": [
        "### Training new Model"
      ]
    },
    {
      "cell_type": "code",
      "metadata": {
        "id": "x7SChwfXpSMq"
      },
      "source": [
        "model.fit(x=train_images, y=enc_train_labels, batch_size=32, epochs=16, validation_split=0.15)"
      ],
      "execution_count": null,
      "outputs": []
    },
    {
      "cell_type": "markdown",
      "metadata": {
        "id": "FQ2qovLK_qZk"
      },
      "source": [
        "### Saving the model in hd5f format"
      ]
    },
    {
      "cell_type": "code",
      "metadata": {
        "id": "Tfl-R-2M7uL3"
      },
      "source": [
        "model.save(\"/content/drive/MyDrive/food_recommender/63_food_recom.h5\")"
      ],
      "execution_count": null,
      "outputs": []
    }
  ]
}