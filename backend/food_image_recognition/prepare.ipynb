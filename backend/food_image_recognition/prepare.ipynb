{
 "cells": [
  {
   "cell_type": "markdown",
   "source": [
    "## Dataset Preparation and Preprocessing"
   ],
   "metadata": {}
  },
  {
   "cell_type": "code",
   "execution_count": null,
   "source": [
    "import numpy as np\r\n",
    "import matplotlib.pyplot as plt\r\n",
    "import cv2\r\n",
    "import os\r\n",
    "from random import shuffle"
   ],
   "outputs": [],
   "metadata": {}
  },
  {
   "cell_type": "code",
   "execution_count": null,
   "source": [
    "DATADIR = \"./dataset\"\r\n",
    "CATEGORIES = list(os.listdir(DATADIR))\r\n",
    "IMG_SIZE = 224\r\n"
   ],
   "outputs": [],
   "metadata": {}
  },
  {
   "cell_type": "code",
   "execution_count": null,
   "source": [
    "training_data = []"
   ],
   "outputs": [],
   "metadata": {}
  },
  {
   "cell_type": "code",
   "execution_count": null,
   "source": [
    "for category in CATEGORIES:\r\n",
    "  category_path = os.path.join(DATADIR, category)\r\n",
    "  class_nums = CATEGORIES.index(category)\r\n",
    "  for img in os.listdir(category_path):\r\n",
    "    img_arr = cv2.imread(os.path.join(category_path, img), cv2.IMREAD_COLOR)\r\n",
    "    img_arr = cv2.resize(img_arr, (IMG_SIZE, IMG_SIZE))\r\n",
    "    training_data.append([img_arr, class_nums])\r\n"
   ],
   "outputs": [],
   "metadata": {}
  },
  {
   "cell_type": "code",
   "execution_count": null,
   "source": [
    "shuffle(training_data)"
   ],
   "outputs": [],
   "metadata": {}
  },
  {
   "cell_type": "code",
   "execution_count": null,
   "source": [
    "train_images = []\r\n",
    "train_labels = []"
   ],
   "outputs": [],
   "metadata": {}
  },
  {
   "cell_type": "code",
   "execution_count": null,
   "source": [
    "for image, label in training_data:\r\n",
    "  train_images.append(image)\r\n",
    "  train_labels.append(label)\r\n",
    "\r\n",
    "train_images = np.array(train_images).reshape(-1, IMG_SIZE, IMG_SIZE, 3)\r\n",
    "train_labels = np.array(train_labels)"
   ],
   "outputs": [],
   "metadata": {}
  },
  {
   "cell_type": "code",
   "execution_count": null,
   "source": [
    "with open(\"train_images.npy\", 'wb') as f:\r\n",
    "  np.save(f, train_images)\r\n",
    "\r\n",
    "with open(\"train_labels.npy\", \"wb\") as f:\r\n",
    "  np.save(f, train_labels)"
   ],
   "outputs": [],
   "metadata": {}
  }
 ],
 "metadata": {
  "orig_nbformat": 4,
  "language_info": {
   "name": "python",
   "version": "3.9.7",
   "mimetype": "text/x-python",
   "codemirror_mode": {
    "name": "ipython",
    "version": 3
   },
   "pygments_lexer": "ipython3",
   "nbconvert_exporter": "python",
   "file_extension": ".py"
  },
  "kernelspec": {
   "name": "python3",
   "display_name": "Python 3.9.7 64-bit"
  },
  "interpreter": {
   "hash": "56ae35c9d73059d1586df60f2c8d27c5282ae80d63a192bd598e70bb440edf42"
  }
 },
 "nbformat": 4,
 "nbformat_minor": 2
}